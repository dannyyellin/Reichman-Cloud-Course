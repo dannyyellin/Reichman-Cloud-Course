{
  "cells": [
    {
      "cell_type": "markdown",
      "source": [],
      "metadata": {
        "id": "itQuMLA365Fm"
      },
      "id": "itQuMLA365Fm"
    },
    {
      "cell_type": "code",
      "source": [
        "! pip install streamlit langchain langchain-openai langchain_experimental langchain_experimental langgraph"
      ],
      "metadata": {
        "id": "q05e66Dc36uU"
      },
      "id": "q05e66Dc36uU",
      "execution_count": null,
      "outputs": []
    },
    {
      "cell_type": "code",
      "execution_count": 28,
      "id": "25fe95cd",
      "metadata": {
        "id": "25fe95cd"
      },
      "outputs": [],
      "source": [
        "import streamlit as st\n",
        "import os\n",
        "from langchain.tools import DuckDuckGoSearchRun\n",
        "from langchain import hub\n",
        "from langchain.agents import create_openai_functions_agent\n",
        "from langchain_openai import AzureChatOpenAI\n",
        "from langgraph.prebuilt import create_agent_executor\n",
        "from langchain_core.pydantic_v1 import BaseModel\n",
        "from langchain.chains.openai_functions import create_structured_output_runnable\n",
        "from langchain_core.prompts import ChatPromptTemplate\n",
        "from langchain_core.pydantic_v1 import BaseModel, Field\n",
        "from typing import Annotated, Any, Dict, Optional, Sequence, TypedDict, List, Tuple\n",
        "import operator\n",
        "from google.colab import userdata"
      ]
    },
    {
      "cell_type": "markdown",
      "id": "1089d1df",
      "metadata": {
        "id": "1089d1df"
      },
      "source": [
        "## Define Environment Variable"
      ]
    },
    {
      "cell_type": "code",
      "execution_count": 67,
      "id": "eb096563",
      "metadata": {
        "id": "eb096563"
      },
      "outputs": [],
      "source": [
        "# langchain_api_key = '<api key>'\n",
        "os.environ[\"LANGCHAIN_TRACING_V2\"] = 'true'\n",
        "# os.environ[\"LANGCHAIN_ENDPOINT\"] = \"https://api.smith.langchain.com\"\n",
        "# os.environ[\"LANGCHAIN_API_KEY\"] = langchain_api_key\n",
        "os.environ[\"LANGCHAIN_PROJECT\"] =\"multi-agent\"\n",
        "os.environ[\"AZURE_OPENAI_ENDPOINT\"] = userdata.get(\"AZURE_OPENAI_ENDPOINT\")\n",
        "os.environ[\"AZURE_OPENAI_KEY\"] = userdata.get(\"AZURE_OPENAI_API_KEY\")\n",
        "# os.environ[\"LANGCHAIN_API_KEY\"] = userdata.get(\"langsmith_api_key\")"
      ]
    },
    {
      "cell_type": "code",
      "execution_count": 63,
      "id": "d2f01b08",
      "metadata": {
        "id": "d2f01b08"
      },
      "outputs": [],
      "source": [
        "llm = AzureChatOpenAI(temperature=0,\n",
        "    max_tokens=1024,openai_api_version=\"2023-07-01-preview\",\n",
        "    api_key= os.getenv(\"AZURE_OPENAI_KEY\"),\n",
        "    # azure_openai_endpoint = os.getenv(\"AZURE_OPENAI_ENDPOINT\"),\n",
        "    # azure_deployment=\"gpt-4-1106-preview\")\n",
        "    azure_deployment=\"gpt4\")"
      ]
    },
    {
      "cell_type": "code",
      "source": [
        "llm.invoke({'requirement':'Generate fibbinaco series'})"
      ],
      "metadata": {
        "id": "xTiMT3qxN077"
      },
      "id": "xTiMT3qxN077",
      "execution_count": null,
      "outputs": []
    },
    {
      "cell_type": "markdown",
      "id": "23d98a4f",
      "metadata": {
        "id": "23d98a4f"
      },
      "source": [
        "## Graph Node - Programmer"
      ]
    },
    {
      "cell_type": "markdown",
      "id": "5d692412",
      "metadata": {
        "id": "5d692412"
      },
      "source": [
        "#### Programmer Agent - Specialized in Writing Program based on Requirements"
      ]
    },
    {
      "cell_type": "code",
      "execution_count": 70,
      "id": "a7bebfac",
      "metadata": {
        "id": "a7bebfac"
      },
      "outputs": [],
      "source": [
        "class Code(BaseModel):\n",
        "    \"\"\"Plan to follow in future\"\"\"\n",
        "\n",
        "    code: str = Field(\n",
        "        description=\"Detailed optmized error-free Python code on the provided requirements\"\n",
        "    )\n",
        "\n",
        "\n",
        "from langchain.chains.openai_functions import create_structured_output_runnable\n",
        "\n",
        "from langchain_core.prompts import ChatPromptTemplate\n",
        "\n",
        "code_gen_prompt = ChatPromptTemplate.from_template(\n",
        "    '''**Role**: You are a expert software python programmer. You need to develop python code\n",
        "**Task**: As a programmer, you are required to complete the function. Use a Chain-of-Thought approach to break\n",
        "down the problem, create pseudocode, and then write the code in Python language. Ensure that your code is\n",
        "efficient, readable, and well-commented.\n",
        "\n",
        "**Instructions**:\n",
        "1. **Understand and Clarify**: Make sure you understand the task.\n",
        "2. **Algorithm/Method Selection**: Decide on the most efficient way.\n",
        "3. **Pseudocode Creation**: Write down the steps you will follow in pseudocode.\n",
        "4. **Code Generation**: Translate your pseudocode into executable Python code\n",
        "\n",
        "*REQURIEMENT*\n",
        "{requirement}'''\n",
        ")\n",
        "print(\"code_gen_prompt = \", code_gen_prompt)\n",
        "coder = create_structured_output_runnable(\n",
        "    Code, llm, code_gen_prompt\n",
        ")"
      ]
    },
    {
      "cell_type": "code",
      "execution_count": 72,
      "id": "f4b87069",
      "metadata": {
        "id": "f4b87069"
      },
      "outputs": [],
      "source": [
        "code_ = coder.invoke({'requirement':'Generate fibbinaco series'})"
      ]
    },
    {
      "cell_type": "code",
      "source": [],
      "metadata": {
        "id": "4JOqkPBfwhzt"
      },
      "id": "4JOqkPBfwhzt",
      "execution_count": null,
      "outputs": []
    },
    {
      "cell_type": "markdown",
      "id": "95ab5d77",
      "metadata": {
        "id": "95ab5d77"
      },
      "source": [
        "## Graph Node - Tester"
      ]
    },
    {
      "cell_type": "markdown",
      "id": "1e7bfa42",
      "metadata": {
        "id": "1e7bfa42"
      },
      "source": [
        "#### Tester Agent - Generates input test cases and expected output"
      ]
    },
    {
      "cell_type": "code",
      "execution_count": 73,
      "id": "f3902cae",
      "metadata": {
        "id": "f3902cae"
      },
      "outputs": [],
      "source": [
        "class Test(BaseModel):\n",
        "    \"\"\"Plan to follow in future\"\"\"\n",
        "\n",
        "    Input: List[List] = Field(\n",
        "        description=\"Input for Test cases to evaluate the provided code\"\n",
        "    )\n",
        "    Output: List[List] = Field(\n",
        "        description=\"Expected Output for Test cases to evaluate the provided code\"\n",
        "    )\n",
        "\n",
        "\n",
        "from langchain.chains.openai_functions import create_structured_output_runnable\n",
        "from langchain_core.prompts import ChatPromptTemplate\n",
        "\n",
        "test_gen_prompt = ChatPromptTemplate.from_template(\n",
        "    '''**Role**: As a tester, your task is to create Basic and Simple test cases based on provided Requirement and Python Code.\n",
        "These test cases should encompass Basic, Edge scenarios to ensure the code's robustness, reliability, and scalability.\n",
        "**1. Basic Test Cases**:\n",
        "- **Objective**: Basic and Small scale test cases to validate basic functioning\n",
        "**2. Edge Test Cases**:\n",
        "- **Objective**: To evaluate the function's behavior under extreme or unusual conditions.\n",
        "**Instructions**:\n",
        "- Implement a comprehensive set of test cases based on requirements.\n",
        "- Pay special attention to edge cases as they often reveal hidden bugs.\n",
        "- Only Generate Basics and Edge cases which are small\n",
        "- Avoid generating Large scale and Medium scale test case. Focus only small, basic test-cases\n",
        "*REQURIEMENT*\n",
        "{requirement}\n",
        "**Code**\n",
        "{code}\n",
        "'''\n",
        ")\n",
        "tester_agent = create_structured_output_runnable(\n",
        "    Test, llm, test_gen_prompt\n",
        ")"
      ]
    },
    {
      "cell_type": "code",
      "execution_count": 74,
      "id": "4794c86b",
      "metadata": {
        "colab": {
          "base_uri": "https://localhost:8080/"
        },
        "id": "4794c86b",
        "outputId": "7bcd1d1e-1771-4413-f7bb-7a07a8df5190"
      },
      "outputs": [
        {
          "output_type": "stream",
          "name": "stdout",
          "text": [
            "# Step 1: Understand and Clarify\n",
            "# The task is to generate a Fibonacci series. The Fibonacci series is a sequence of numbers in which each number is the sum of the two preceding ones, usually starting with 0 and 1.\n",
            "\n",
            "# Step 2: Algorithm/Method Selection\n",
            "# The most efficient way to generate a Fibonacci series is to use a loop and keep track of the last two numbers.\n",
            "\n",
            "# Step 3: Pseudocode Creation\n",
            "# 1. Initialize two variables, a and b, to 0 and 1 respectively\n",
            "# 2. In a loop, calculate the next number in the series as the sum of a and b\n",
            "# 3. Update a and b to be the last two numbers in the series\n",
            "# 4. Repeat steps 2 and 3 for the desired length of the series\n",
            "\n",
            "# Step 4: Code Generation\n",
            "\n",
            "def fibonacci(n):\n",
            "    # Initialize the first two numbers\n",
            "    a, b = 0, 1\n",
            "    # Create an empty list to store the series\n",
            "    series = []\n",
            "    # Generate the series\n",
            "    for _ in range(n):\n",
            "        series.append(a)\n",
            "        # Calculate the next number\n",
            "        a, b = b, a + b\n",
            "    # Return the series\n",
            "    return series\n"
          ]
        }
      ],
      "source": [
        "print(code_.code)"
      ]
    },
    {
      "cell_type": "code",
      "execution_count": 75,
      "id": "087dcc13",
      "metadata": {
        "scrolled": false,
        "id": "087dcc13"
      },
      "outputs": [],
      "source": [
        "test_ = tester_agent.invoke({'requirement':'Generate fibbinaco series','code':code_.code})"
      ]
    },
    {
      "cell_type": "code",
      "execution_count": 76,
      "id": "3981798a",
      "metadata": {
        "colab": {
          "base_uri": "https://localhost:8080/"
        },
        "id": "3981798a",
        "outputId": "998d415b-eb78-477a-abf8-0c39a6f498b3"
      },
      "outputs": [
        {
          "output_type": "execute_result",
          "data": {
            "text/plain": [
              "Test(Input=[[0], [1], [2], [3], [5], [10], [-1], [100], [1000]], Output=[[], [0], [0, 1], [0, 1, 1], [0, 1, 1, 2, 3], [0, 1, 1, 2, 3, 5, 8, 13, 21, 34], [], [], []])"
            ]
          },
          "metadata": {},
          "execution_count": 76
        }
      ],
      "source": [
        "test_"
      ]
    },
    {
      "cell_type": "markdown",
      "id": "c6c9e3c6",
      "metadata": {
        "id": "c6c9e3c6"
      },
      "source": [
        "## Graph Node - Python Executor"
      ]
    },
    {
      "cell_type": "markdown",
      "id": "89fd5bbf",
      "metadata": {
        "id": "89fd5bbf"
      },
      "source": [
        "#### Executor - Executes code in a Python environment on provided test cases"
      ]
    },
    {
      "cell_type": "code",
      "execution_count": null,
      "id": "42b9fda3",
      "metadata": {
        "id": "42b9fda3"
      },
      "outputs": [],
      "source": [
        "class ExecutableCode(BaseModel):\n",
        "    \"\"\"Plan to follow in future\"\"\"\n",
        "\n",
        "    code: str = Field(\n",
        "        description=\"Detailed optmized error-free Python code with test cases assertion\"\n",
        "    )\n",
        "\n",
        "python_execution_gen = ChatPromptTemplate.from_template(\n",
        "    \"\"\"You have to add testing layer in the *Python Code* that can help to execute the code. You need to pass only Provided Input as argument and validate if the Given Expected Output is matched.\n",
        "*Instruction*:\n",
        "- Make sure to return the error if the assertion fails\n",
        "- Generate the code that can be execute\n",
        "Python Code to excecute:\n",
        "*Python Code*:{code}\n",
        "Input and Output For Code:\n",
        "*Input*:{input}\n",
        "*Expected Output*:{output}\"\"\"\n",
        ")\n",
        "\n",
        "execution = create_structured_output_runnable(\n",
        "    ExecutableCode, llm, python_execution_gen\n",
        ")\n",
        "execution."
      ]
    },
    {
      "cell_type": "code",
      "execution_count": 89,
      "id": "65b58139",
      "metadata": {
        "id": "65b58139"
      },
      "outputs": [],
      "source": [
        "code_execute = execution.invoke({'code':code_.code,\"input\":test_.Input,'output':test_.Output})"
      ]
    },
    {
      "cell_type": "code",
      "execution_count": null,
      "id": "f50e5c97",
      "metadata": {
        "id": "f50e5c97"
      },
      "outputs": [],
      "source": [
        "print(code_execute.code)"
      ]
    },
    {
      "cell_type": "code",
      "execution_count": null,
      "id": "9397a93c",
      "metadata": {
        "scrolled": true,
        "id": "9397a93c"
      },
      "outputs": [],
      "source": [
        "error = None\n",
        "try:\n",
        "    exec(code_execute.code)\n",
        "except Exception as e:\n",
        "    error = f'Exception : {e}'\n",
        "error"
      ]
    },
    {
      "cell_type": "markdown",
      "id": "73c2021c",
      "metadata": {
        "id": "73c2021c"
      },
      "source": [
        "## Graph Node -Debugger"
      ]
    },
    {
      "cell_type": "markdown",
      "id": "451bb1c5",
      "metadata": {
        "id": "451bb1c5"
      },
      "source": [
        "#### Debugger - Debugs code using LLM knowledge and sends it back to the 'Executer' Agent in case of errors."
      ]
    },
    {
      "cell_type": "code",
      "execution_count": 83,
      "id": "a1fa1a5e",
      "metadata": {
        "id": "a1fa1a5e"
      },
      "outputs": [],
      "source": [
        "class RefineCode(BaseModel):\n",
        "\n",
        "    code: str = Field(\n",
        "        description=\"Optimized and Refined Python code to resolve the error\"\n",
        "    )\n",
        "\n",
        "\n",
        "python_refine_gen = ChatPromptTemplate.from_template(\n",
        "    \"\"\"You are expert in Python Debugging. You have to analysis Given Code and Error and generate code that handles the error\n",
        "    *Instructions*:\n",
        "    - Make sure to generate error free code\n",
        "    - Generated code is able to handle the error\n",
        "\n",
        "    *Code*: {code}\n",
        "    *Error*: {error}\n",
        "    \"\"\"\n",
        ")\n",
        "refine_code = create_structured_output_runnable(\n",
        "    RefineCode, llm, python_refine_gen\n",
        ")"
      ]
    },
    {
      "cell_type": "code",
      "execution_count": 78,
      "id": "0c5b5fd8",
      "metadata": {
        "colab": {
          "base_uri": "https://localhost:8080/",
          "height": 202
        },
        "id": "0c5b5fd8",
        "outputId": "5e81ca14-62d2-4ab5-aa27-7564e3c50dfe"
      },
      "outputs": [
        {
          "output_type": "error",
          "ename": "NameError",
          "evalue": "name 'code_execute' is not defined",
          "traceback": [
            "\u001b[0;31m---------------------------------------------------------------------------\u001b[0m",
            "\u001b[0;31mNameError\u001b[0m                                 Traceback (most recent call last)",
            "\u001b[0;32m<ipython-input-78-9d308c40cc43>\u001b[0m in \u001b[0;36m<cell line: 2>\u001b[0;34m()\u001b[0m\n\u001b[1;32m      1\u001b[0m dummy_json = {\n\u001b[0;32m----> 2\u001b[0;31m     \u001b[0;34m\"code\"\u001b[0m\u001b[0;34m:\u001b[0m \u001b[0mcode_execute\u001b[0m\u001b[0;34m.\u001b[0m\u001b[0mcode\u001b[0m\u001b[0;34m,\u001b[0m\u001b[0;34m\u001b[0m\u001b[0;34m\u001b[0m\u001b[0m\n\u001b[0m\u001b[1;32m      3\u001b[0m     \u001b[0;34m\"error\"\u001b[0m\u001b[0;34m:\u001b[0m \u001b[0merror\u001b[0m\u001b[0;34m\u001b[0m\u001b[0;34m\u001b[0m\u001b[0m\n\u001b[1;32m      4\u001b[0m }\n",
            "\u001b[0;31mNameError\u001b[0m: name 'code_execute' is not defined"
          ]
        }
      ],
      "source": [
        "dummy_json = {\n",
        "    \"code\": code_execute.code,\n",
        "    \"error\": error\n",
        "}"
      ]
    },
    {
      "cell_type": "code",
      "execution_count": 79,
      "id": "6e7fdf63",
      "metadata": {
        "colab": {
          "base_uri": "https://localhost:8080/",
          "height": 147
        },
        "id": "6e7fdf63",
        "outputId": "9e315343-533c-4836-a784-442c15726da1"
      },
      "outputs": [
        {
          "output_type": "error",
          "ename": "NameError",
          "evalue": "name 'dummy_json' is not defined",
          "traceback": [
            "\u001b[0;31m---------------------------------------------------------------------------\u001b[0m",
            "\u001b[0;31mNameError\u001b[0m                                 Traceback (most recent call last)",
            "\u001b[0;32m<ipython-input-79-d17e625afd5f>\u001b[0m in \u001b[0;36m<cell line: 1>\u001b[0;34m()\u001b[0m\n\u001b[0;32m----> 1\u001b[0;31m \u001b[0mrefine_code_\u001b[0m \u001b[0;34m=\u001b[0m \u001b[0mrefine_code\u001b[0m\u001b[0;34m.\u001b[0m\u001b[0minvoke\u001b[0m\u001b[0;34m(\u001b[0m\u001b[0mdummy_json\u001b[0m\u001b[0;34m)\u001b[0m\u001b[0;34m\u001b[0m\u001b[0;34m\u001b[0m\u001b[0m\n\u001b[0m",
            "\u001b[0;31mNameError\u001b[0m: name 'dummy_json' is not defined"
          ]
        }
      ],
      "source": [
        "refine_code_ = refine_code.invoke(dummy_json)"
      ]
    },
    {
      "cell_type": "code",
      "execution_count": null,
      "id": "a39a6514",
      "metadata": {
        "id": "a39a6514",
        "outputId": "51a7fef9-c812-4756-b42c-5d846e002672"
      },
      "outputs": [
        {
          "name": "stdout",
          "output_type": "stream",
          "text": [
            "# Function to generate Fibonacci series up to n terms\n",
            "\n",
            "def generate_fibonacci(n):\n",
            "    # Check if n is an integer and greater than 0\n",
            "    if not isinstance(n, int) or n <= 0:\n",
            "        return []\n",
            "\n",
            "    # Initialize the first two numbers\n",
            "    a, b = 0, 1\n",
            "    series = []\n",
            "\n",
            "    # Generate the series up to n terms\n",
            "    for _ in range(n):\n",
            "        series.append(a)\n",
            "        # Update the last two numbers\n",
            "        a, b = b, a + b\n",
            "\n",
            "    return series\n",
            "\n",
            "# Testing layer\n",
            "\n",
            "def test_generate_fibonacci():\n",
            "    test_cases = [\n",
            "        (0, []),\n",
            "        (1, [0]),\n",
            "        (2, [0, 1]),\n",
            "        (5, [0, 1, 1, 2, 3]),\n",
            "        (10, [0, 1, 1, 2, 3, 5, 8, 13, 21, 34]),\n",
            "        (-1, []),\n",
            "        (1.5, []),\n",
            "        ('three', []),\n",
            "        (None, [])\n",
            "    ]\n",
            "\n",
            "    for inputs, expected in test_cases:\n",
            "        result = generate_fibonacci(inputs)\n",
            "        assert result == expected, f'Error on test case {inputs}, expected {expected}, got {result}'\n",
            "\n",
            "    print(\"All test cases passed!\")\n",
            "\n",
            "test_generate_fibonacci()\n"
          ]
        }
      ],
      "source": [
        "print(refine_code_.code)"
      ]
    },
    {
      "cell_type": "code",
      "execution_count": null,
      "id": "9c44d93a",
      "metadata": {
        "id": "9c44d93a",
        "outputId": "464a0a05-0177-48b3-935e-d63c11bfb808"
      },
      "outputs": [
        {
          "name": "stdout",
          "output_type": "stream",
          "text": [
            "All test cases passed!\n"
          ]
        }
      ],
      "source": [
        "exec(refine_code_.code)"
      ]
    },
    {
      "cell_type": "markdown",
      "id": "6bda90aa",
      "metadata": {
        "id": "6bda90aa"
      },
      "source": [
        "## Graph Design"
      ]
    },
    {
      "cell_type": "code",
      "execution_count": null,
      "id": "2f6276e8",
      "metadata": {
        "id": "2f6276e8"
      },
      "outputs": [],
      "source": [
        "class AgentCoder(TypedDict):\n",
        "    requirement: str\n",
        "    code: str\n",
        "    tests: Dict[str, any]\n",
        "    errors: Optional[str]"
      ]
    },
    {
      "cell_type": "code",
      "execution_count": null,
      "id": "cb6dff71",
      "metadata": {
        "id": "cb6dff71"
      },
      "outputs": [],
      "source": [
        "def programmer(state):\n",
        "    print(f'Entering in Programmer')\n",
        "    requirement = state['requirement']\n",
        "    code_ = coder.invoke({'requirement':requirement})\n",
        "    return {'code':code_.code}\n",
        "\n",
        "def debugger(state):\n",
        "    print(f'Entering in Debugger')\n",
        "    errors = state['errors']\n",
        "    code = state['code']\n",
        "    refine_code_ = refine_code.invoke({'code':code,'error':errors})\n",
        "    return {'code':refine_code_.code,'errors':None}\n",
        "\n",
        "def executer(state):\n",
        "    print(f'Entering in Executer')\n",
        "    tests = state['tests']\n",
        "    input_ = tests['input']\n",
        "    output_ = tests['output']\n",
        "    code = state['code']\n",
        "    executable_code = execution.invoke({\"code\":code,\"input\":input_,'output':output_})\n",
        "    #print(f\"Executable Code - {executable_code.code}\")\n",
        "    error = None\n",
        "    try:\n",
        "        exec(executable_code.code)\n",
        "        print(\"Code Execution Successful\")\n",
        "    except Exception as e:\n",
        "        print('Found Error While Running')\n",
        "        error = f\"Execution Error : {e}\"\n",
        "    return {'code':executable_code.code,'errors':error}\n",
        "\n",
        "def tester(state):\n",
        "    print(f'Entering in Tester')\n",
        "    requirement = state['requirement']\n",
        "    code = state['code']\n",
        "    tests = tester_agent.invoke({'requirement':requirement,'code':code})\n",
        "    #tester.invoke({'requirement':'Generate fibbinaco series','code':code_.code})\n",
        "    return {'tests':{'input':tests.Input,'output':tests.Output}}\n",
        "\n",
        "def decide_to_end(state):\n",
        "    print(f'Entering in Decide to End')\n",
        "    if state['errors']:\n",
        "        return 'debugger'\n",
        "    else:\n",
        "        return 'end'"
      ]
    },
    {
      "cell_type": "code",
      "execution_count": null,
      "id": "40b0b9f8",
      "metadata": {
        "id": "40b0b9f8"
      },
      "outputs": [],
      "source": [
        "from langgraph.graph import END, StateGraph\n",
        "\n",
        "workflow = StateGraph(AgentCoder)\n",
        "\n",
        "# Define the nodes\n",
        "workflow.add_node(\"programmer\", programmer)\n",
        "workflow.add_node(\"debugger\", debugger)\n",
        "workflow.add_node(\"executer\", executer)\n",
        "workflow.add_node(\"tester\", tester)\n",
        "#workflow.add_node('decide_to_end',decide_to_end)\n",
        "\n",
        "# Build graph\n",
        "workflow.set_entry_point(\"programmer\")\n",
        "workflow.add_edge(\"programmer\", \"tester\")\n",
        "workflow.add_edge(\"debugger\", \"executer\")\n",
        "workflow.add_edge(\"tester\", \"executer\")\n",
        "#workflow.add_edge(\"executer\", \"decide_to_end\")\n",
        "\n",
        "workflow.add_conditional_edges(\n",
        "    \"executer\",\n",
        "    decide_to_end,\n",
        "    {\n",
        "        \"end\": END,\n",
        "        \"debugger\": \"debugger\",\n",
        "    },\n",
        ")\n",
        "\n",
        "# Compile\n",
        "app = workflow.compile()"
      ]
    },
    {
      "cell_type": "markdown",
      "id": "e2f216b2",
      "metadata": {
        "id": "e2f216b2"
      },
      "source": [
        "- Running Leetcode Problem (https://leetcode.com/problems/two-sum/description/)\n",
        "- It should generate test-cases to evaluate the solution\n",
        "- The solution should be optimized"
      ]
    },
    {
      "cell_type": "code",
      "execution_count": null,
      "id": "eabce06d",
      "metadata": {
        "id": "eabce06d"
      },
      "outputs": [],
      "source": [
        "requirement = \"\"\"Given an array of integers nums and an integer target, return indices of the two numbers such that they add up to target. You may assume that each input would have exactly one solution, and you may not use the same element twice.You can return the answer in any order.\"\"\""
      ]
    },
    {
      "cell_type": "code",
      "execution_count": null,
      "id": "81417f7b",
      "metadata": {
        "scrolled": false,
        "id": "81417f7b",
        "outputId": "0e8d9f1a-bb4d-423a-800d-d88379eb7bfd"
      },
      "outputs": [
        {
          "name": "stdout",
          "output_type": "stream",
          "text": [
            "Entering in Programmer\n",
            "{'code': '# Understand and Clarify:\\n# The task is to find two numbers in the array that add up to the target value.\\n# Each input is guaranteed to have one solution, and we cannot use the same element twice.\\n\\n# Algorithm/Method Selection:\\n# A hash map (dictionary in Python) can be used for efficient lookup of the complement of each element.\\n# We iterate through the array, and for each element, we check if the complement (target - element) is in the map.\\n# If it is, we return the current index and the index stored in the map.\\n# If not, we add the element and its index to the map.\\n\\n# Pseudocode Creation:\\n# 1. Initialize an empty dictionary to store elements and their indices.\\n# 2. Iterate through the array with both index and value.\\n# 3. Calculate the complement by subtracting the current value from the target.\\n# 4. Check if the complement is in the dictionary.\\n#    - If yes, return the current index and the index from the dictionary.\\n#    - If no, add the current value and index to the dictionary.\\n\\n# Code Generation:\\ndef two_sum(nums, target):\\n    num_dict = {}\\n    for index, num in enumerate(nums):\\n        complement = target - num\\n        if complement in num_dict:\\n            return [num_dict[complement], index]\\n        num_dict[num] = index\\n\\n    # Since the problem statement guarantees exactly one solution, we do not need to handle the case\\n    # where no solution is found. The loop will always return before it completes if the input is valid.\\n\\n# Example usage:\\n# two_sum([2, 7, 11, 15], 9) should return [0, 1] because nums[0] + nums[1] == 9'}\n",
            "--------------------------------------------------------------------------------------------------------------------------------------------------------------------------------------------------------\n",
            "Entering in Tester\n",
            "{'tests': {'input': [[[2, 7, 11, 15], 9], [[3, 2, 4], 6], [[0, 4, 3, 0], 0], [[-1, -2, -3, -4, -5], -8]], 'output': [[[0, 1]], [[1, 2]], [[0, 3]], [[2, 4]]]}}\n",
            "--------------------------------------------------------------------------------------------------------------------------------------------------------------------------------------------------------\n",
            "Entering in Executer\n",
            "Test passed for input [[2, 7, 11, 15], 9]: expected [0, 1], got [0, 1]\n",
            "Test passed for input [[3, 2, 4], 6]: expected [1, 2], got [1, 2]\n",
            "Test passed for input [[0, 4, 3, 0], 0]: expected [0, 3], got [0, 3]\n",
            "Test passed for input [[-1, -2, -3, -4, -5], -8]: expected [2, 4], got [2, 4]\n",
            "Code Execution Successful\n",
            "{'code': \"def two_sum(nums, target):\\n    num_dict = {}\\n    for index, num in enumerate(nums):\\n        complement = target - num\\n        if complement in num_dict:\\n            return [num_dict[complement], index]\\n        num_dict[num] = index\\n\\n# Testing layer\\nif __name__ == '__main__':\\n    test_cases = [\\n        ([[2, 7, 11, 15], 9], [0, 1]),\\n        ([[3, 2, 4], 6], [1, 2]),\\n        ([[0, 4, 3, 0], 0], [0, 3]),\\n        ([[-1, -2, -3, -4, -5], -8], [2, 4])\\n    ]\\n\\n    for inputs, expected in test_cases:\\n        result = two_sum(*inputs)\\n        assert result == expected, f'Test failed for input {inputs}: expected {expected}, got {result}'\\n        print(f'Test passed for input {inputs}: expected {expected}, got {result}')\\n\", 'errors': None}\n",
            "--------------------------------------------------------------------------------------------------------------------------------------------------------------------------------------------------------\n",
            "Entering in Decide to End\n"
          ]
        }
      ],
      "source": [
        "from langchain_core.messages import HumanMessage\n",
        "\n",
        "config = {\"recursion_limit\": 50}\n",
        "inputs = {\"requirement\": requirement}\n",
        "running_dict = {}\n",
        "async for event in app.astream(inputs, config=config):\n",
        "    for k, v in event.items():\n",
        "        running_dict[k] = v\n",
        "        if k != \"__end__\":\n",
        "            print(v)\n",
        "            print('----------'*20)"
      ]
    },
    {
      "cell_type": "code",
      "execution_count": null,
      "id": "58dade0f",
      "metadata": {
        "id": "58dade0f",
        "outputId": "777d2640-9325-428d-c153-40cb4402ba42"
      },
      "outputs": [
        {
          "name": "stdout",
          "output_type": "stream",
          "text": [
            "Given an array of integers nums and an integer target, return indices of the two numbers such that they add up to target. You may assume that each input would have exactly one solution, and you may not use the same element twice.You can return the answer in any order.\n"
          ]
        }
      ],
      "source": [
        "print(v['requirement'])"
      ]
    },
    {
      "cell_type": "code",
      "execution_count": null,
      "id": "d9b43f2e",
      "metadata": {
        "id": "d9b43f2e",
        "outputId": "3813bec6-891d-4d12-c27a-c74d8ccf14f2"
      },
      "outputs": [
        {
          "name": "stdout",
          "output_type": "stream",
          "text": [
            "def two_sum(nums, target):\n",
            "    num_dict = {}\n",
            "    for index, num in enumerate(nums):\n",
            "        complement = target - num\n",
            "        if complement in num_dict:\n",
            "            return [num_dict[complement], index]\n",
            "        num_dict[num] = index\n",
            "\n",
            "# Testing layer\n",
            "if __name__ == '__main__':\n",
            "    test_cases = [\n",
            "        ([[2, 7, 11, 15], 9], [0, 1]),\n",
            "        ([[3, 2, 4], 6], [1, 2]),\n",
            "        ([[0, 4, 3, 0], 0], [0, 3]),\n",
            "        ([[-1, -2, -3, -4, -5], -8], [2, 4])\n",
            "    ]\n",
            "\n",
            "    for inputs, expected in test_cases:\n",
            "        result = two_sum(*inputs)\n",
            "        assert result == expected, f'Test failed for input {inputs}: expected {expected}, got {result}'\n",
            "        print(f'Test passed for input {inputs}: expected {expected}, got {result}')\n",
            "\n"
          ]
        }
      ],
      "source": [
        "print(v['code'])"
      ]
    },
    {
      "cell_type": "code",
      "execution_count": null,
      "id": "7ba4f3bf",
      "metadata": {
        "id": "7ba4f3bf",
        "outputId": "863f9350-a396-4bd4-c085-78ee97cefb97"
      },
      "outputs": [
        {
          "data": {
            "text/plain": [
              "{'programmer': {'code': '# Understand and Clarify:\\n# The task is to find two numbers in the array that add up to the target value.\\n# Each input is guaranteed to have one solution, and we cannot use the same element twice.\\n\\n# Algorithm/Method Selection:\\n# A hash map (dictionary in Python) can be used for efficient lookup of the complement of each element.\\n# We iterate through the array, and for each element, we check if the complement (target - element) is in the map.\\n# If it is, we return the current index and the index stored in the map.\\n# If not, we add the element and its index to the map.\\n\\n# Pseudocode Creation:\\n# 1. Initialize an empty dictionary to store elements and their indices.\\n# 2. Iterate through the array with both index and value.\\n# 3. Calculate the complement by subtracting the current value from the target.\\n# 4. Check if the complement is in the dictionary.\\n#    - If yes, return the current index and the index from the dictionary.\\n#    - If no, add the current value and index to the dictionary.\\n\\n# Code Generation:\\ndef two_sum(nums, target):\\n    num_dict = {}\\n    for index, num in enumerate(nums):\\n        complement = target - num\\n        if complement in num_dict:\\n            return [num_dict[complement], index]\\n        num_dict[num] = index\\n\\n    # Since the problem statement guarantees exactly one solution, we do not need to handle the case\\n    # where no solution is found. The loop will always return before it completes if the input is valid.\\n\\n# Example usage:\\n# two_sum([2, 7, 11, 15], 9) should return [0, 1] because nums[0] + nums[1] == 9'},\n",
              " 'tester': {'tests': {'input': [[[2, 7, 11, 15], 9],\n",
              "    [[3, 2, 4], 6],\n",
              "    [[0, 4, 3, 0], 0],\n",
              "    [[-1, -2, -3, -4, -5], -8]],\n",
              "   'output': [[[0, 1]], [[1, 2]], [[0, 3]], [[2, 4]]]}},\n",
              " 'executer': {'code': \"def two_sum(nums, target):\\n    num_dict = {}\\n    for index, num in enumerate(nums):\\n        complement = target - num\\n        if complement in num_dict:\\n            return [num_dict[complement], index]\\n        num_dict[num] = index\\n\\n# Testing layer\\nif __name__ == '__main__':\\n    test_cases = [\\n        ([[2, 7, 11, 15], 9], [0, 1]),\\n        ([[3, 2, 4], 6], [1, 2]),\\n        ([[0, 4, 3, 0], 0], [0, 3]),\\n        ([[-1, -2, -3, -4, -5], -8], [2, 4])\\n    ]\\n\\n    for inputs, expected in test_cases:\\n        result = two_sum(*inputs)\\n        assert result == expected, f'Test failed for input {inputs}: expected {expected}, got {result}'\\n        print(f'Test passed for input {inputs}: expected {expected}, got {result}')\\n\",\n",
              "  'errors': None},\n",
              " '__end__': {'requirement': 'Given an array of integers nums and an integer target, return indices of the two numbers such that they add up to target. You may assume that each input would have exactly one solution, and you may not use the same element twice.You can return the answer in any order.',\n",
              "  'code': \"def two_sum(nums, target):\\n    num_dict = {}\\n    for index, num in enumerate(nums):\\n        complement = target - num\\n        if complement in num_dict:\\n            return [num_dict[complement], index]\\n        num_dict[num] = index\\n\\n# Testing layer\\nif __name__ == '__main__':\\n    test_cases = [\\n        ([[2, 7, 11, 15], 9], [0, 1]),\\n        ([[3, 2, 4], 6], [1, 2]),\\n        ([[0, 4, 3, 0], 0], [0, 3]),\\n        ([[-1, -2, -3, -4, -5], -8], [2, 4])\\n    ]\\n\\n    for inputs, expected in test_cases:\\n        result = two_sum(*inputs)\\n        assert result == expected, f'Test failed for input {inputs}: expected {expected}, got {result}'\\n        print(f'Test passed for input {inputs}: expected {expected}, got {result}')\\n\",\n",
              "  'tests': {'input': [[[2, 7, 11, 15], 9],\n",
              "    [[3, 2, 4], 6],\n",
              "    [[0, 4, 3, 0], 0],\n",
              "    [[-1, -2, -3, -4, -5], -8]],\n",
              "   'output': [[[0, 1]], [[1, 2]], [[0, 3]], [[2, 4]]]},\n",
              "  'errors': None}}"
            ]
          },
          "execution_count": 86,
          "metadata": {},
          "output_type": "execute_result"
        }
      ],
      "source": [
        "running_dict"
      ]
    }
  ],
  "metadata": {
    "kernelspec": {
      "display_name": "Python 3 (ipykernel)",
      "language": "python",
      "name": "python3"
    },
    "language_info": {
      "codemirror_mode": {
        "name": "ipython",
        "version": 3
      },
      "file_extension": ".py",
      "mimetype": "text/x-python",
      "name": "python",
      "nbconvert_exporter": "python",
      "pygments_lexer": "ipython3",
      "version": "3.9.7"
    },
    "colab": {
      "provenance": []
    }
  },
  "nbformat": 4,
  "nbformat_minor": 5
}
